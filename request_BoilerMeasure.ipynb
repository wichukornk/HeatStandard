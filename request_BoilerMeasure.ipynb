{
 "cells": [
  {
   "cell_type": "code",
   "execution_count": 56,
   "metadata": {},
   "outputs": [],
   "source": [
    "import requests\n",
    "import re\n",
    "import mysql.connector\n",
    "import pandas as pd\n",
    "mydb = mysql.connector.connect(\n",
    "  host=\"163.44.196.192\",\n",
    "  user=\"ararize\",\n",
    "  password=\"isylzjko$3rv3r\",\n",
    "  database=\"tp\"\n",
    ")\n",
    "mycursor = mydb.cursor()\n"
   ]
  },
  {
   "cell_type": "code",
   "execution_count": 57,
   "metadata": {},
   "outputs": [],
   "source": [
    "def request_BoilerMea():\n",
    "    sql = 'SELECT `meID`,`bcL1picName`,`bcL2picName`,`bcL3picName`,`bcL4picName`,`bcL5picName`,`bcL6picName` FROM `boiler_data` WHERE bdType = 3'\n",
    "    mycursor.execute(sql)\n",
    "    myresult = mycursor.fetchall()\n",
    "    boilerMea_data = pd.DataFrame(myresult, columns = ['meID','meaL1','meaL2','meaL3','meaL4','meaL5','meaL6'])\n",
    "    boilerMea_data['meID'] = boilerMea_data['meID'].astype('str')\n",
    "    return boilerMea_data\n",
    "def request_BoilerID():\n",
    "    sql = \"SELECT * FROM `boilerID`\"\n",
    "    mycursor.execute(sql)\n",
    "    myresult = mycursor.fetchall()\n",
    "    boilerID_data = pd.DataFrame(myresult, columns = ['meID','BoilerID'])\n",
    "    boilerID_data['meID'] = boilerID_data['meID'].astype('str')\n",
    "    return boilerID_data\n",
    "def mapMea(mea):\n",
    "    mea = mea.str.replace(\"\\\"\",\"\").str.replace(\"[\",\"\").str.replace(\"]\",\"\").str.replace(\"0\",\"\")\n",
    "    mea_id = pd.read_csv('mea_id.csv',dtype={'meaID':'str'})\n",
    "    mea_id = dict(zip(mea_id['meaID'],mea_id['meaName']))\n",
    "    for j in range(9):\n",
    "        mea = mea.str.replace(str(j+1),mea_id[str(j+1)])\n",
    "    return mea\n",
    "\n",
    "boilerMea_data = request_BoilerMea()\n",
    "boilerID_data = request_BoilerID()\n",
    "for i in range(6):\n",
    "    boilerMea_data.iloc[:,i+1] = mapMea(boilerMea_data.iloc[:,i+1])\n",
    "df_mea = boilerID_data.merge(boilerMea_data,how='left',on='meID')"
   ]
  },
  {
   "cell_type": "code",
   "execution_count": 60,
   "metadata": {},
   "outputs": [],
   "source": [
    "df_mea.drop(['meID'],axis=1).set_index('BoilerID').to_csv('mea_Data.csv')"
   ]
  }
 ],
 "metadata": {
  "kernelspec": {
   "display_name": "Python 3",
   "language": "python",
   "name": "python3"
  },
  "language_info": {
   "codemirror_mode": {
    "name": "ipython",
    "version": 3
   },
   "file_extension": ".py",
   "mimetype": "text/x-python",
   "name": "python",
   "nbconvert_exporter": "python",
   "pygments_lexer": "ipython3",
   "version": "3.8.5"
  }
 },
 "nbformat": 4,
 "nbformat_minor": 4
}
