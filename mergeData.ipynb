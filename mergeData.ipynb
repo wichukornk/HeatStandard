{
 "cells": [
  {
   "cell_type": "code",
   "execution_count": 1,
   "id": "spanish-study",
   "metadata": {},
   "outputs": [],
   "source": [
    "import pandas as pd"
   ]
  },
  {
   "cell_type": "code",
   "execution_count": 46,
   "id": "computational-province",
   "metadata": {},
   "outputs": [
    {
     "data": {
      "text/plain": [
       "Index(['BoilerID', 'BoilerType', 'Capacity', 'ImprovementTech', 'LifeTime',\n",
       "       'FuelName', 'FuelType', 'Burner', 'SteamRate[kg/hr]',\n",
       "       'SteamPressure[bara]', 'TDS_feedWater[ppm]', 'TDS_blowdown[ppm]',\n",
       "       'FlueGasTemp[`C]', 'O2[%]', 'CO[ppm]', 'CO2[%]', 'FeedWaterRate[kg/hr]',\n",
       "       'BlowdownRate[kg/hr]', 'FeedWaterTemp[`C]', 'FuelFlowRate_aft[kg/hr]',\n",
       "       'HHV_AR[kJ/kg]', 'สถานะข้อมูล', 'LoadFactor'],\n",
       "      dtype='object')"
      ]
     },
     "execution_count": 46,
     "metadata": {},
     "output_type": "execute_result"
    }
   ],
   "source": [
    "dtPri=pd.read_csv('primaryDataWithLabel_cleanData.csv')\n",
    "dtPri['LoadFactor']=dtPri['SteamRate[kg/hr]']/1000/dtPri['Capacity']*100\n",
    "dtPri.columns"
   ]
  },
  {
   "cell_type": "code",
   "execution_count": 47,
   "id": "hundred-lingerie",
   "metadata": {},
   "outputs": [
    {
     "data": {
      "text/html": [
       "<div>\n",
       "<style scoped>\n",
       "    .dataframe tbody tr th:only-of-type {\n",
       "        vertical-align: middle;\n",
       "    }\n",
       "\n",
       "    .dataframe tbody tr th {\n",
       "        vertical-align: top;\n",
       "    }\n",
       "\n",
       "    .dataframe thead th {\n",
       "        text-align: right;\n",
       "    }\n",
       "</style>\n",
       "<table border=\"1\" class=\"dataframe\">\n",
       "  <thead>\n",
       "    <tr style=\"text-align: right;\">\n",
       "      <th></th>\n",
       "      <th>BoilerID</th>\n",
       "      <th>Team</th>\n",
       "      <th>Factory</th>\n",
       "      <th>Province</th>\n",
       "    </tr>\n",
       "  </thead>\n",
       "  <tbody>\n",
       "    <tr>\n",
       "      <th>0</th>\n",
       "      <td>10111-0003-1</td>\n",
       "      <td>TEC</td>\n",
       "      <td>บริษัท โกลเด้น ไลน์ บิสซิเนส จำกัด</td>\n",
       "      <td>เพชรบูรณ์</td>\n",
       "    </tr>\n",
       "    <tr>\n",
       "      <th>1</th>\n",
       "      <td>10112-0003-1</td>\n",
       "      <td>EET</td>\n",
       "      <td>บริษัท เบทาโกรเกษตรอุตสาหกรรม จำกัด</td>\n",
       "      <td>ลพบุรี</td>\n",
       "    </tr>\n",
       "    <tr>\n",
       "      <th>2</th>\n",
       "      <td>10120-0017-1</td>\n",
       "      <td>BEN</td>\n",
       "      <td>บริษัท อาหารเบทเทอร์ จำกัด</td>\n",
       "      <td>สมุทรสาคร</td>\n",
       "    </tr>\n",
       "    <tr>\n",
       "      <th>3</th>\n",
       "      <td>10132-0005-1</td>\n",
       "      <td>EET</td>\n",
       "      <td>บริษัท อาหารเบทเทอร์ จำกัด</td>\n",
       "      <td>ลพบุรี</td>\n",
       "    </tr>\n",
       "    <tr>\n",
       "      <th>4</th>\n",
       "      <td>10132-0005-2</td>\n",
       "      <td>EET</td>\n",
       "      <td>บริษัท อาหารเบทเทอร์ จำกัด</td>\n",
       "      <td>ลพบุรี</td>\n",
       "    </tr>\n",
       "  </tbody>\n",
       "</table>\n",
       "</div>"
      ],
      "text/plain": [
       "       BoilerID Team                              Factory   Province\n",
       "0  10111-0003-1  TEC   บริษัท โกลเด้น ไลน์ บิสซิเนส จำกัด  เพชรบูรณ์\n",
       "1  10112-0003-1  EET  บริษัท เบทาโกรเกษตรอุตสาหกรรม จำกัด     ลพบุรี\n",
       "2  10120-0017-1  BEN           บริษัท อาหารเบทเทอร์ จำกัด  สมุทรสาคร\n",
       "3  10132-0005-1  EET           บริษัท อาหารเบทเทอร์ จำกัด     ลพบุรี\n",
       "4  10132-0005-2  EET           บริษัท อาหารเบทเทอร์ จำกัด     ลพบุรี"
      ]
     },
     "execution_count": 47,
     "metadata": {},
     "output_type": "execute_result"
    }
   ],
   "source": [
    "dtFac=pd.read_excel('facName.xlsx')\n",
    "dtFac.head()"
   ]
  },
  {
   "cell_type": "code",
   "execution_count": 48,
   "id": "destroyed-dressing",
   "metadata": {},
   "outputs": [],
   "source": [
    "dt1=pd.merge(dtPri,\n",
    "        dtFac,\n",
    "        how='left',\n",
    "        on='BoilerID')"
   ]
  },
  {
   "cell_type": "code",
   "execution_count": 49,
   "id": "suspended-insert",
   "metadata": {},
   "outputs": [],
   "source": [
    "dtLoss=pd.read_csv('boiler_Data.csv')\n",
    "dtLoss=dtLoss.loc[:,['BoilerID','IndirectEFF_HHV_aft_[%]','L1HHV_aft','L2HHV_aft','L3HHV_aft','L4HHV_aft','L5HHV_aft','L6HHV_aft']]"
   ]
  },
  {
   "cell_type": "code",
   "execution_count": 50,
   "id": "danish-taxation",
   "metadata": {},
   "outputs": [],
   "source": [
    "dt1=pd.merge(dt1,\n",
    "        dtLoss,\n",
    "        how='left',\n",
    "        on='BoilerID')"
   ]
  },
  {
   "cell_type": "code",
   "execution_count": 51,
   "id": "dried-somerset",
   "metadata": {},
   "outputs": [
    {
     "data": {
      "text/plain": [
       "Index(['BoilerID', 'BoilerType', 'Capacity', 'ImprovementTech', 'LifeTime',\n",
       "       'FuelName', 'FuelType', 'Burner', 'SteamRate[kg/hr]',\n",
       "       'SteamPressure[bara]', 'TDS_feedWater[ppm]', 'TDS_blowdown[ppm]',\n",
       "       'FlueGasTemp[`C]', 'O2[%]', 'CO[ppm]', 'CO2[%]', 'FeedWaterRate[kg/hr]',\n",
       "       'BlowdownRate[kg/hr]', 'FeedWaterTemp[`C]', 'FuelFlowRate_aft[kg/hr]',\n",
       "       'HHV_AR[kJ/kg]', 'สถานะข้อมูล', 'LoadFactor', 'Team', 'Factory',\n",
       "       'Province', 'IndirectEFF_HHV_aft_[%]', 'L1HHV_aft', 'L2HHV_aft',\n",
       "       'L3HHV_aft', 'L4HHV_aft', 'L5HHV_aft', 'L6HHV_aft'],\n",
       "      dtype='object')"
      ]
     },
     "execution_count": 51,
     "metadata": {},
     "output_type": "execute_result"
    }
   ],
   "source": [
    "dt1.columns"
   ]
  },
  {
   "cell_type": "code",
   "execution_count": 52,
   "id": "considered-feature",
   "metadata": {},
   "outputs": [],
   "source": [
    "dt1=dt1.loc[:,['Factory', 'Province','BoilerType','Capacity','LifeTime','SteamRate[kg/hr]','LoadFactor','ImprovementTech','FuelType','FuelName','Burner','IndirectEFF_HHV_aft_[%]','L1HHV_aft','L2HHV_aft','L3HHV_aft','L4HHV_aft','L5HHV_aft','L6HHV_aft','สถานะข้อมูล']]"
   ]
  },
  {
   "cell_type": "code",
   "execution_count": 53,
   "id": "stupid-valve",
   "metadata": {},
   "outputs": [
    {
     "data": {
      "text/plain": [
       "Index(['Factory', 'Province', 'BoilerType', 'Capacity', 'LifeTime',\n",
       "       'SteamRate[kg/hr]', 'LoadFactor', 'ImprovementTech', 'FuelType',\n",
       "       'FuelName', 'Burner', 'IndirectEFF_HHV_aft_[%]', 'L1HHV_aft',\n",
       "       'L2HHV_aft', 'L3HHV_aft', 'L4HHV_aft', 'L5HHV_aft', 'L6HHV_aft',\n",
       "       'สถานะข้อมูล'],\n",
       "      dtype='object')"
      ]
     },
     "execution_count": 53,
     "metadata": {},
     "output_type": "execute_result"
    }
   ],
   "source": [
    "dt1.columns"
   ]
  },
  {
   "cell_type": "code",
   "execution_count": 59,
   "id": "unavailable-bathroom",
   "metadata": {},
   "outputs": [
    {
     "data": {
      "text/plain": [
       "Index(['โรงงาน', 'จังหวัด', 'ประเภทหม้อน้ำ', 'ขนาด (ton/h)', 'อายุ (ปี)',\n",
       "       'ปริมาณการใช้ไอน้ำ (ton/h)', 'Load factor', 'HEAT recovery system',\n",
       "       'ประเภทเชื้อเพลิง', 'เชื้อเพลิง', 'เทคโนโลยีการเผาไหม้',\n",
       "       'ประสิทธิภาพ HHV หลังมาตรการ', 'L1 (Stack)', 'L2 (Soot blow)',\n",
       "       'L3 (CO)', 'L4 (unburn)', 'L5 (Shell)', 'L6 (Blow down)',\n",
       "       'การปรับแต่งการเผาไหม้'],\n",
       "      dtype='object')"
      ]
     },
     "execution_count": 59,
     "metadata": {},
     "output_type": "execute_result"
    }
   ],
   "source": [
    "dt2=pd.read_excel('SecondaryData.xlsx',usecols=\"A:X\")\n",
    "dt2.drop(labels=['ลำดับที่','ประสิทธิภาพ HHV ก่อนมาตรการ','ประสิทธิภาพ HHV','โครงการ','หมายเหตุ'], axis=1, inplace=True)\n",
    "dt2.columns"
   ]
  },
  {
   "cell_type": "code",
   "execution_count": 60,
   "id": "diverse-triple",
   "metadata": {},
   "outputs": [],
   "source": [
    "dt2['จังหวัด']=dt2['จังหวัด'].ffill()"
   ]
  },
  {
   "cell_type": "code",
   "execution_count": 62,
   "id": "accessory-penguin",
   "metadata": {},
   "outputs": [
    {
     "data": {
      "text/plain": [
       "0"
      ]
     },
     "execution_count": 62,
     "metadata": {},
     "output_type": "execute_result"
    }
   ],
   "source": [
    "dt2.loc[:,'จังหวัด'].isnull().sum()"
   ]
  },
  {
   "cell_type": "code",
   "execution_count": 63,
   "id": "atmospheric-earthquake",
   "metadata": {},
   "outputs": [],
   "source": [
    "def conData(eff):\n",
    "  try :\n",
    "    return float(eff)\n",
    "  except :\n",
    "    #print(eff)\n",
    "    return 0\n",
    "def conLife(life):\n",
    "  try :\n",
    "    return float(life)\n",
    "  except :\n",
    "    #print(life)\n",
    "    if \">10\" in life:\n",
    "      return 11\n",
    "    else:\n",
    "      return 9"
   ]
  },
  {
   "cell_type": "code",
   "execution_count": 64,
   "id": "helpful-honey",
   "metadata": {},
   "outputs": [],
   "source": [
    "for i in dt2.index:\n",
    "  dt2.loc[i,'ประสิทธิภาพ HHV หลังมาตรการ']=conData(dt2.loc[i,'ประสิทธิภาพ HHV หลังมาตรการ']) \n",
    "  dt2.loc[i,'อายุ (ปี)']=conLife(dt2.loc[i,'อายุ (ปี)'])"
   ]
  },
  {
   "cell_type": "code",
   "execution_count": 65,
   "id": "persistent-condition",
   "metadata": {},
   "outputs": [],
   "source": [
    "dt2.loc[:,'ประสิทธิภาพ HHV หลังมาตรการ'] = dt2.loc[:,'ประสิทธิภาพ HHV หลังมาตรการ'].astype(\"float\")\n",
    "dt2 = dt2.loc[dt2['ประสิทธิภาพ HHV หลังมาตรการ']>0.0,:]"
   ]
  },
  {
   "cell_type": "code",
   "execution_count": 67,
   "id": "dying-island",
   "metadata": {},
   "outputs": [
    {
     "data": {
      "text/plain": [
       "(255, 19)"
      ]
     },
     "execution_count": 67,
     "metadata": {},
     "output_type": "execute_result"
    }
   ],
   "source": [
    "dt2.shape"
   ]
  },
  {
   "cell_type": "code",
   "execution_count": 56,
   "id": "persistent-wrist",
   "metadata": {},
   "outputs": [
    {
     "data": {
      "text/html": [
       "<div>\n",
       "<style scoped>\n",
       "    .dataframe tbody tr th:only-of-type {\n",
       "        vertical-align: middle;\n",
       "    }\n",
       "\n",
       "    .dataframe tbody tr th {\n",
       "        vertical-align: top;\n",
       "    }\n",
       "\n",
       "    .dataframe thead th {\n",
       "        text-align: right;\n",
       "    }\n",
       "</style>\n",
       "<table border=\"1\" class=\"dataframe\">\n",
       "  <thead>\n",
       "    <tr style=\"text-align: right;\">\n",
       "      <th></th>\n",
       "      <th>โรงงาน</th>\n",
       "      <th>จังหวัด</th>\n",
       "      <th>ประเภทหม้อน้ำ</th>\n",
       "      <th>ขนาด (ton/h)</th>\n",
       "      <th>อายุ (ปี)</th>\n",
       "      <th>ปริมาณการใช้ไอน้ำ (ton/h)</th>\n",
       "      <th>Load factor</th>\n",
       "      <th>HEAT recovery system</th>\n",
       "      <th>ประเภทเชื้อเพลิง</th>\n",
       "      <th>เชื้อเพลิง</th>\n",
       "      <th>เทคโนโลยีการเผาไหม้</th>\n",
       "      <th>ประสิทธิภาพ HHV หลังมาตรการ</th>\n",
       "      <th>L1 (Stack)</th>\n",
       "      <th>L2 (Soot blow)</th>\n",
       "      <th>L3 (CO)</th>\n",
       "      <th>L4 (unburn)</th>\n",
       "      <th>L5 (Shell)</th>\n",
       "      <th>L6 (Blow down)</th>\n",
       "      <th>หมายเหตุ</th>\n",
       "      <th>การปรับแต่งการเผาไหม้</th>\n",
       "    </tr>\n",
       "  </thead>\n",
       "  <tbody>\n",
       "    <tr>\n",
       "      <th>0</th>\n",
       "      <td>บริษัท ปริ๊นเซสฟูดส์ จำกัด</td>\n",
       "      <td>เชียงใหม่</td>\n",
       "      <td>ท่อไฟ</td>\n",
       "      <td>3.0</td>\n",
       "      <td>17</td>\n",
       "      <td>2.3889</td>\n",
       "      <td>79.630000</td>\n",
       "      <td>-</td>\n",
       "      <td>เหลว</td>\n",
       "      <td>น้ำมันเตา A</td>\n",
       "      <td>Burner</td>\n",
       "      <td>84.5</td>\n",
       "      <td>15.4</td>\n",
       "      <td>0</td>\n",
       "      <td>0.0</td>\n",
       "      <td>0</td>\n",
       "      <td>0.2</td>\n",
       "      <td>NaN</td>\n",
       "      <td>ปรับแต่ง</td>\n",
       "      <td>เกณฑ์ดี</td>\n",
       "    </tr>\n",
       "    <tr>\n",
       "      <th>1</th>\n",
       "      <td>บริษัท โอ.วี.อินเตอร์เนชั่นแนล อิมปอร์ต-เอ็กซ์...</td>\n",
       "      <td>เชียงใหม่</td>\n",
       "      <td>ผสม</td>\n",
       "      <td>6.0</td>\n",
       "      <td>8</td>\n",
       "      <td>2.9140</td>\n",
       "      <td>48.566667</td>\n",
       "      <td>-</td>\n",
       "      <td>แข็ง</td>\n",
       "      <td>ไม้ฟืน</td>\n",
       "      <td>Fixed grate</td>\n",
       "      <td>77.0</td>\n",
       "      <td>20.6</td>\n",
       "      <td>0</td>\n",
       "      <td>1.4</td>\n",
       "      <td>0</td>\n",
       "      <td>1</td>\n",
       "      <td>NaN</td>\n",
       "      <td>ปรับแต่ง</td>\n",
       "      <td>เกณฑ์ดี</td>\n",
       "    </tr>\n",
       "  </tbody>\n",
       "</table>\n",
       "</div>"
      ],
      "text/plain": [
       "                                              โรงงาน    จังหวัด ประเภทหม้อน้ำ  \\\n",
       "0                         บริษัท ปริ๊นเซสฟูดส์ จำกัด  เชียงใหม่         ท่อไฟ   \n",
       "1  บริษัท โอ.วี.อินเตอร์เนชั่นแนล อิมปอร์ต-เอ็กซ์...  เชียงใหม่           ผสม   \n",
       "\n",
       "   ขนาด (ton/h) อายุ (ปี)  ปริมาณการใช้ไอน้ำ (ton/h)  Load factor  \\\n",
       "0           3.0        17                     2.3889    79.630000   \n",
       "1           6.0         8                     2.9140    48.566667   \n",
       "\n",
       "  HEAT recovery system ประเภทเชื้อเพลิง   เชื้อเพลิง เทคโนโลยีการเผาไหม้  \\\n",
       "0                   -              เหลว  น้ำมันเตา A              Burner   \n",
       "1                   -              แข็ง       ไม้ฟืน         Fixed grate   \n",
       "\n",
       "   ประสิทธิภาพ HHV หลังมาตรการ  L1 (Stack) L2 (Soot blow)  L3 (CO)  \\\n",
       "0                         84.5        15.4              0      0.0   \n",
       "1                         77.0        20.6              0      1.4   \n",
       "\n",
       "  L4 (unburn) L5 (Shell)  L6 (Blow down)  หมายเหตุ การปรับแต่งการเผาไหม้  \n",
       "0           0        0.2             NaN  ปรับแต่ง               เกณฑ์ดี  \n",
       "1           0          1             NaN  ปรับแต่ง               เกณฑ์ดี  "
      ]
     },
     "execution_count": 56,
     "metadata": {},
     "output_type": "execute_result"
    }
   ],
   "source": [
    "dt2.head(2)"
   ]
  },
  {
   "cell_type": "code",
   "execution_count": 68,
   "id": "stylish-thong",
   "metadata": {},
   "outputs": [],
   "source": [
    "a = dt1.columns\n",
    "b = dt2.columns\n",
    "dt1.rename(columns=dict(zip(a,b)),inplace=True)"
   ]
  },
  {
   "cell_type": "code",
   "execution_count": 71,
   "id": "virtual-luther",
   "metadata": {},
   "outputs": [
    {
     "data": {
      "text/html": [
       "<div>\n",
       "<style scoped>\n",
       "    .dataframe tbody tr th:only-of-type {\n",
       "        vertical-align: middle;\n",
       "    }\n",
       "\n",
       "    .dataframe tbody tr th {\n",
       "        vertical-align: top;\n",
       "    }\n",
       "\n",
       "    .dataframe thead th {\n",
       "        text-align: right;\n",
       "    }\n",
       "</style>\n",
       "<table border=\"1\" class=\"dataframe\">\n",
       "  <thead>\n",
       "    <tr style=\"text-align: right;\">\n",
       "      <th></th>\n",
       "      <th>โรงงาน</th>\n",
       "      <th>จังหวัด</th>\n",
       "      <th>ประเภทหม้อน้ำ</th>\n",
       "      <th>ขนาด (ton/h)</th>\n",
       "      <th>อายุ (ปี)</th>\n",
       "      <th>ปริมาณการใช้ไอน้ำ (ton/h)</th>\n",
       "      <th>Load factor</th>\n",
       "      <th>HEAT recovery system</th>\n",
       "      <th>ประเภทเชื้อเพลิง</th>\n",
       "      <th>เชื้อเพลิง</th>\n",
       "      <th>เทคโนโลยีการเผาไหม้</th>\n",
       "      <th>ประสิทธิภาพ HHV หลังมาตรการ</th>\n",
       "      <th>L1 (Stack)</th>\n",
       "      <th>L2 (Soot blow)</th>\n",
       "      <th>L3 (CO)</th>\n",
       "      <th>L4 (unburn)</th>\n",
       "      <th>L5 (Shell)</th>\n",
       "      <th>L6 (Blow down)</th>\n",
       "      <th>การปรับแต่งการเผาไหม้</th>\n",
       "    </tr>\n",
       "  </thead>\n",
       "  <tbody>\n",
       "    <tr>\n",
       "      <th>0</th>\n",
       "      <td>บริษัท พรีเมียร์ควอลิตี้สตาร์ช จำกัด</td>\n",
       "      <td>มุกดาหาร</td>\n",
       "      <td>water tube</td>\n",
       "      <td>4.0</td>\n",
       "      <td>10</td>\n",
       "      <td>3867.978736</td>\n",
       "      <td>96.699468</td>\n",
       "      <td>NaN</td>\n",
       "      <td>Solid</td>\n",
       "      <td>แกลบ</td>\n",
       "      <td>overfeed stoker (Fixed/Inclined Grate) - Aut...</td>\n",
       "      <td>77.43</td>\n",
       "      <td>20.03</td>\n",
       "      <td>0.0</td>\n",
       "      <td>0.02</td>\n",
       "      <td>1.52</td>\n",
       "      <td>0.59</td>\n",
       "      <td>0.41</td>\n",
       "      <td>YES</td>\n",
       "    </tr>\n",
       "    <tr>\n",
       "      <th>1</th>\n",
       "      <td>บริษัท อาหารเบทเทอร์ จำกัด</td>\n",
       "      <td>ลพบุรี</td>\n",
       "      <td>fire tube</td>\n",
       "      <td>3.0</td>\n",
       "      <td>15</td>\n",
       "      <td>1220.470000</td>\n",
       "      <td>40.682333</td>\n",
       "      <td>Economizer, นำคอนเดนเสทกลับมาใช้</td>\n",
       "      <td>Gas</td>\n",
       "      <td>LPG</td>\n",
       "      <td>แบบผสมกันภายในหัวเผา (Nozzle-mix burner)</td>\n",
       "      <td>80.82</td>\n",
       "      <td>16.61</td>\n",
       "      <td>0.0</td>\n",
       "      <td>0.00</td>\n",
       "      <td>0.00</td>\n",
       "      <td>1.27</td>\n",
       "      <td>1.30</td>\n",
       "      <td>YES</td>\n",
       "    </tr>\n",
       "    <tr>\n",
       "      <th>2</th>\n",
       "      <td>บริษัท อาหารเบทเทอร์ จำกัด</td>\n",
       "      <td>สมุทรสาคร</td>\n",
       "      <td>fire tube</td>\n",
       "      <td>12.0</td>\n",
       "      <td>19</td>\n",
       "      <td>3600.000000</td>\n",
       "      <td>30.000000</td>\n",
       "      <td>นำคอนเดนเสทกลับมาใช้</td>\n",
       "      <td>Gas</td>\n",
       "      <td>LPG</td>\n",
       "      <td>แบบผสมเชื้อเพลิงกับอากาศก่อนป้อนเข้าเผาไหม้ (...</td>\n",
       "      <td>81.08</td>\n",
       "      <td>16.18</td>\n",
       "      <td>0.0</td>\n",
       "      <td>0.00</td>\n",
       "      <td>0.00</td>\n",
       "      <td>0.63</td>\n",
       "      <td>2.11</td>\n",
       "      <td>YES</td>\n",
       "    </tr>\n",
       "    <tr>\n",
       "      <th>3</th>\n",
       "      <td>บริษัท ไทยยามาฮ่ามอเตอร์ จำกัด</td>\n",
       "      <td>สมุทรปราการ</td>\n",
       "      <td>once through</td>\n",
       "      <td>1.0</td>\n",
       "      <td>11</td>\n",
       "      <td>341.409091</td>\n",
       "      <td>34.140909</td>\n",
       "      <td>นำคอนเดนเสทกลับมาใช้</td>\n",
       "      <td>Gas</td>\n",
       "      <td>LPG</td>\n",
       "      <td>แบบผสมเชื้อเพลิงกับอากาศก่อนป้อนเข้าเผาไหม้ (...</td>\n",
       "      <td>82.78</td>\n",
       "      <td>16.37</td>\n",
       "      <td>0.0</td>\n",
       "      <td>0.01</td>\n",
       "      <td>0.00</td>\n",
       "      <td>0.32</td>\n",
       "      <td>0.52</td>\n",
       "      <td>NO</td>\n",
       "    </tr>\n",
       "    <tr>\n",
       "      <th>4</th>\n",
       "      <td>บริษัท สมบัติบุญยะลาพริ้นติ้ง จำกัด</td>\n",
       "      <td>สมุทรสาคร</td>\n",
       "      <td>fire tube</td>\n",
       "      <td>12.0</td>\n",
       "      <td>20</td>\n",
       "      <td>2624.830000</td>\n",
       "      <td>21.873583</td>\n",
       "      <td>นำคอนเดนเสทกลับมาใช้</td>\n",
       "      <td>Solid</td>\n",
       "      <td>กะลาปาล์ม</td>\n",
       "      <td>overfeed stoker (Traveling Grate) - Auto Feed</td>\n",
       "      <td>68.18</td>\n",
       "      <td>30.23</td>\n",
       "      <td>0.0</td>\n",
       "      <td>0.17</td>\n",
       "      <td>0.19</td>\n",
       "      <td>1.06</td>\n",
       "      <td>0.17</td>\n",
       "      <td>NO</td>\n",
       "    </tr>\n",
       "  </tbody>\n",
       "</table>\n",
       "</div>"
      ],
      "text/plain": [
       "                                 โรงงาน      จังหวัด ประเภทหม้อน้ำ  \\\n",
       "0  บริษัท พรีเมียร์ควอลิตี้สตาร์ช จำกัด     มุกดาหาร    water tube   \n",
       "1            บริษัท อาหารเบทเทอร์ จำกัด       ลพบุรี     fire tube   \n",
       "2            บริษัท อาหารเบทเทอร์ จำกัด    สมุทรสาคร     fire tube   \n",
       "3        บริษัท ไทยยามาฮ่ามอเตอร์ จำกัด  สมุทรปราการ  once through   \n",
       "4   บริษัท สมบัติบุญยะลาพริ้นติ้ง จำกัด    สมุทรสาคร     fire tube   \n",
       "\n",
       "   ขนาด (ton/h)  อายุ (ปี)  ปริมาณการใช้ไอน้ำ (ton/h)  Load factor  \\\n",
       "0           4.0         10                3867.978736    96.699468   \n",
       "1           3.0         15                1220.470000    40.682333   \n",
       "2          12.0         19                3600.000000    30.000000   \n",
       "3           1.0         11                 341.409091    34.140909   \n",
       "4          12.0         20                2624.830000    21.873583   \n",
       "\n",
       "               HEAT recovery system ประเภทเชื้อเพลิง เชื้อเพลิง  \\\n",
       "0                               NaN            Solid       แกลบ   \n",
       "1  Economizer, นำคอนเดนเสทกลับมาใช้              Gas        LPG   \n",
       "2              นำคอนเดนเสทกลับมาใช้              Gas        LPG   \n",
       "3              นำคอนเดนเสทกลับมาใช้              Gas        LPG   \n",
       "4              นำคอนเดนเสทกลับมาใช้            Solid  กะลาปาล์ม   \n",
       "\n",
       "                                 เทคโนโลยีการเผาไหม้  \\\n",
       "0    overfeed stoker (Fixed/Inclined Grate) - Aut...   \n",
       "1          แบบผสมกันภายในหัวเผา (Nozzle-mix burner)    \n",
       "2   แบบผสมเชื้อเพลิงกับอากาศก่อนป้อนเข้าเผาไหม้ (...   \n",
       "3   แบบผสมเชื้อเพลิงกับอากาศก่อนป้อนเข้าเผาไหม้ (...   \n",
       "4      overfeed stoker (Traveling Grate) - Auto Feed   \n",
       "\n",
       "   ประสิทธิภาพ HHV หลังมาตรการ  L1 (Stack)  L2 (Soot blow)  L3 (CO)  \\\n",
       "0                        77.43       20.03             0.0     0.02   \n",
       "1                        80.82       16.61             0.0     0.00   \n",
       "2                        81.08       16.18             0.0     0.00   \n",
       "3                        82.78       16.37             0.0     0.01   \n",
       "4                        68.18       30.23             0.0     0.17   \n",
       "\n",
       "   L4 (unburn)  L5 (Shell)  L6 (Blow down) การปรับแต่งการเผาไหม้  \n",
       "0         1.52        0.59            0.41                   YES  \n",
       "1         0.00        1.27            1.30                   YES  \n",
       "2         0.00        0.63            2.11                   YES  \n",
       "3         0.00        0.32            0.52                    NO  \n",
       "4         0.19        1.06            0.17                    NO  "
      ]
     },
     "execution_count": 71,
     "metadata": {},
     "output_type": "execute_result"
    }
   ],
   "source": [
    "dt1.head(5)"
   ]
  },
  {
   "cell_type": "code",
   "execution_count": 73,
   "id": "valued-importance",
   "metadata": {},
   "outputs": [
    {
     "data": {
      "text/plain": [
       "(96, 19)"
      ]
     },
     "execution_count": 73,
     "metadata": {},
     "output_type": "execute_result"
    }
   ],
   "source": [
    "dt1.shape"
   ]
  },
  {
   "cell_type": "code",
   "execution_count": 74,
   "id": "correct-trinidad",
   "metadata": {},
   "outputs": [
    {
     "data": {
      "text/plain": [
       "(255, 19)"
      ]
     },
     "execution_count": 74,
     "metadata": {},
     "output_type": "execute_result"
    }
   ],
   "source": [
    "dt2.shape"
   ]
  },
  {
   "cell_type": "code",
   "execution_count": 84,
   "id": "operational-distinction",
   "metadata": {},
   "outputs": [],
   "source": [
    "data=dt1.append(dt2)"
   ]
  },
  {
   "cell_type": "code",
   "execution_count": 86,
   "id": "cheap-conversion",
   "metadata": {},
   "outputs": [],
   "source": [
    "data.reset_index(drop=True, inplace=True)"
   ]
  },
  {
   "cell_type": "code",
   "execution_count": 87,
   "id": "operating-cooking",
   "metadata": {},
   "outputs": [],
   "source": [
    "data.to_excel('data.xlsx')"
   ]
  }
 ],
 "metadata": {
  "kernelspec": {
   "display_name": "Python 3",
   "language": "python",
   "name": "python3"
  },
  "language_info": {
   "codemirror_mode": {
    "name": "ipython",
    "version": 3
   },
   "file_extension": ".py",
   "mimetype": "text/x-python",
   "name": "python",
   "nbconvert_exporter": "python",
   "pygments_lexer": "ipython3",
   "version": "3.8.7"
  }
 },
 "nbformat": 4,
 "nbformat_minor": 5
}
